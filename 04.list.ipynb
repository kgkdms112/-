{
 "cells": [
  {
   "cell_type": "markdown",
   "metadata": {},
   "source": [
    "## 4. 리스트 \n",
    "- 시퀀스 자료형으로서, 연속된 자료를 순서에 따라 나열하고 있는 데이터타입\n",
    "- 시퀀스 자료형으로는 리스트 외에, 문자열, 튜플이 있다. \n",
    "- 리스트는 대괄호 [ ] 안에 다양한 데이터타입을 나열하여 쓸 수 있다. \n",
    "- 변수에는 하나의 값 저장, 리스트에는 여러개의 값 저장\n",
    "- 예) a = [1,2,3,4,5,6]  가족 = [\"엄마\", \"아빠\", \"누나\", \"동생\"] mix = [1,2,3, \"엄마 사랑해\", \"happy\"]\n",
    "- 시퀀스 자료형은 아래의 특성을 공통으로 가지고 있음\n",
    "![index](index1.png)\n",
    "  1.  인덱싱 : 첫번째 자료 a[0]부터 a[1], a[2]....로 진행 (오른쪽으로) 또는 마지막 자료 a[-1]부터 a[-2]. a[-3].....로 진행도 가능 (왼쪽으로)\n",
    "     - a[0] -> 1, 가족[-2] -> '누나'\n",
    "  2. 슬라이싱 : 자료의 범위 일부를 표현하는 방법 [1:5]라면 1번째부터 5 **-1**번째(4번째)까지를 나타냄\n",
    "     - a[1:4] -> 2,3 \n",
    "  3. +연산(이어붙이기)과 * 연산(반복)가능 \n",
    "  4. 'in'을 사용해 자료값이 들어있는지 확인 \n",
    "  5. len()을 이용해 자료의 크기를 확인"
   ]
  },
  {
   "cell_type": "code",
   "execution_count": null,
   "metadata": {},
   "outputs": [],
   "source": [
    "a = [1, 2, 3, 4]\n",
    "a"
   ]
  },
  {
   "cell_type": "code",
   "execution_count": null,
   "metadata": {},
   "outputs": [],
   "source": [
    "type(a)"
   ]
  },
  {
   "cell_type": "code",
   "execution_count": null,
   "metadata": {},
   "outputs": [],
   "source": [
    "a = [10, 20, 30, 40]\n",
    "print(a)"
   ]
  },
  {
   "cell_type": "code",
   "execution_count": null,
   "metadata": {},
   "outputs": [],
   "source": [
    "a = [1,2,3,4,5,6,7]\n",
    "blackpink = [\"제니\", \"리사\", \"로제\",\"지수\"]\n",
    "\n",
    "# 인덱싱 : 첫번째 자료 a[0]부터 a[1], a[2]....로 진행 (오른쪽으로)\n",
    "# 또는 마지막 자료 a[-1]부터 a[-2]. a[-3].....로 진행도 가능 (왼쪽으로)"
   ]
  },
  {
   "cell_type": "code",
   "execution_count": null,
   "metadata": {},
   "outputs": [],
   "source": [
    "a[1]\n",
    "print (a[2])"
   ]
  },
  {
   "cell_type": "code",
   "execution_count": null,
   "metadata": {},
   "outputs": [],
   "source": [
    "print (blackpink[2])"
   ]
  },
  {
   "cell_type": "code",
   "execution_count": null,
   "metadata": {},
   "outputs": [],
   "source": [
    "collabo = blackpink + [\"뷔\", \"제이홉\"] \n",
    "print (collabo)"
   ]
  },
  {
   "cell_type": "code",
   "execution_count": null,
   "metadata": {},
   "outputs": [],
   "source": [
    "#중첩 리스트\n",
    "c = ['제니', '리사', '로제', '지수', ['정국', '랩몬']]\n",
    "\n",
    "print (c[1])"
   ]
  },
  {
   "cell_type": "code",
   "execution_count": null,
   "metadata": {},
   "outputs": [],
   "source": [
    "print(c[5])"
   ]
  },
  {
   "cell_type": "code",
   "execution_count": null,
   "metadata": {},
   "outputs": [],
   "source": [
    "#정국만 출력\n",
    "print(c[1][0])\n",
    "#로제만 출력\n",
    "print(c[0][2])"
   ]
  },
  {
   "cell_type": "code",
   "execution_count": null,
   "metadata": {},
   "outputs": [],
   "source": [
    "# 리스트의 크기 확인하기\n",
    "print (len(a))\n",
    "print (len(c))"
   ]
  },
  {
   "cell_type": "code",
   "execution_count": null,
   "metadata": {
    "scrolled": true
   },
   "outputs": [],
   "source": [
    "# 리스트 슬라이싱\n",
    "c = ['제니', '리사', '로제', '지수', ['정국', '랩몬']]\n",
    "print (\"c[:4]는\", c[:4])\n",
    "print (\"c[3:]는\",c[3:])\n",
    "print (\"c[:]는\", c[:])\n",
    "print (\"c[:-2]는\", c[:-2])"
   ]
  },
  {
   "cell_type": "markdown",
   "metadata": {},
   "source": [
    "#### 리스트에서 자료 가지고 놀기\n",
    "- 인덱스를 활용해 값을 교체하기 [인덱스번호] = 교체할 값\n",
    "- 값을 추가하기 .append(추가할 값)\n",
    "- 인덱스 위치에 값을 추가하기 .insert(인덱스번호, 추가할 값)\n",
    "- 값들을 정렬하기 .sort()\n",
    "- 값을 제거하기 .remove (제거할 값)\n",
    "- 인덱스로 값을 제거하기 .pop(제거할 위치의 인덱스번호)"
   ]
  },
  {
   "cell_type": "code",
   "execution_count": null,
   "metadata": {
    "scrolled": true
   },
   "outputs": [],
   "source": [
    "# 인덱스를 활용해 값을 교체하기\n",
    "blackpink = [\"제니\", \"리사\", \"완제\",\"지수\"]\n",
    "blackpink [2] = \"로제\" \n",
    "print(blackpink)"
   ]
  },
  {
   "cell_type": "code",
   "execution_count": null,
   "metadata": {},
   "outputs": [],
   "source": [
    "#.append, .insert, .extend, .sort, .pop, .remove\n",
    "e = []\n",
    "e.append(\"리사\") # 맨 뒤에 추가\n",
    "#.append, .insert, .extend, .sort, .pop, .remove\n",
    "\n",
    "e.append(\"제니\") # 맨 뒤에 추가\n",
    "print(e)"
   ]
  },
  {
   "cell_type": "code",
   "execution_count": null,
   "metadata": {},
   "outputs": [],
   "source": [
    "e.insert(1,\"로제\")   # 1번째 인덱스에 '로제'를 추가\n",
    "print(e)"
   ]
  },
  {
   "cell_type": "code",
   "execution_count": null,
   "metadata": {},
   "outputs": [],
   "source": [
    "e.sort() #가나다, abc, 123 순으로 정렬\n",
    "print (e)"
   ]
  },
  {
   "cell_type": "code",
   "execution_count": null,
   "metadata": {},
   "outputs": [],
   "source": [
    "f = [\"rose\",\"lisa\",\"Jisoo\",\"Jennie\"]\n",
    "f.sort()\n",
    "print (f)"
   ]
  },
  {
   "cell_type": "code",
   "execution_count": null,
   "metadata": {},
   "outputs": [],
   "source": [
    "\"로제\" in blackpink"
   ]
  },
  {
   "cell_type": "code",
   "execution_count": null,
   "metadata": {},
   "outputs": [],
   "source": [
    "print(e)\n",
    "if \"아이린\" in e:\n",
    "    print(\"화이팅\")\n",
    "else :\n",
    "    print(\"ㅠㅠ\")"
   ]
  },
  {
   "cell_type": "code",
   "execution_count": null,
   "metadata": {},
   "outputs": [],
   "source": [
    "e.remove(\"제니\")\n",
    "print(e)"
   ]
  },
  {
   "cell_type": "code",
   "execution_count": null,
   "metadata": {},
   "outputs": [],
   "source": [
    "e.pop(1)\n",
    "e"
   ]
  },
  {
   "cell_type": "code",
   "execution_count": null,
   "metadata": {},
   "outputs": [],
   "source": [
    "dir(list)"
   ]
  },
  {
   "cell_type": "code",
   "execution_count": null,
   "metadata": {},
   "outputs": [],
   "source": []
  }
 ],
 "metadata": {
  "kernelspec": {
   "display_name": "Python 3",
   "language": "python",
   "name": "python3"
  },
  "language_info": {
   "codemirror_mode": {
    "name": "ipython",
    "version": 3
   },
   "file_extension": ".py",
   "mimetype": "text/x-python",
   "name": "python",
   "nbconvert_exporter": "python",
   "pygments_lexer": "ipython3",
   "version": "3.7.4"
  }
 },
 "nbformat": 4,
 "nbformat_minor": 2
}
